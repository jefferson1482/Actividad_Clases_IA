{
 "cells": [
  {
   "cell_type": "code",
   "execution_count": 80,
   "id": "177239a2",
   "metadata": {},
   "outputs": [],
   "source": [
    "import numpy as np\n",
    "import pandas as pd"
   ]
  },
  {
   "cell_type": "code",
   "execution_count": 81,
   "id": "b3f1644a",
   "metadata": {},
   "outputs": [
    {
     "name": "stdout",
     "output_type": "stream",
     "text": [
      "[[[['Erick' '22' 'Octubre' '1989']\n",
      "   ['Sara' '45' 'Noviembre' '1986']\n",
      "   ['Jefferson' '25' 'Diciembre' '1986']\n",
      "   ['Joselyn' '26' 'Enero' '1986']]]]\n"
     ]
    },
    {
     "data": {
      "text/plain": [
       "numpy.ndarray"
      ]
     },
     "execution_count": 81,
     "metadata": {},
     "output_type": "execute_result"
    }
   ],
   "source": [
    "cabecera = [[[[('nombre'),('edad'),('mes'),('año')]]]]\n",
    "datos=np.array([[[['Erick','22','Octubre','1989'],['Sara','45','Noviembre','1986'],['Jefferson','25','Diciembre','1986'],['Joselyn','26','Enero','1986']]]])\n",
    "print(datos)\n",
    "type(datos)"
   ]
  },
  {
   "cell_type": "code",
   "execution_count": 82,
   "id": "4c83f88e",
   "metadata": {},
   "outputs": [
    {
     "data": {
      "text/plain": [
       "4"
      ]
     },
     "execution_count": 82,
     "metadata": {},
     "output_type": "execute_result"
    }
   ],
   "source": [
    "#Numero de dimension\n",
    "datos.ndim"
   ]
  },
  {
   "cell_type": "code",
   "execution_count": 85,
   "id": "c6f2844c",
   "metadata": {},
   "outputs": [
    {
     "name": "stdout",
     "output_type": "stream",
     "text": [
      "[[[['nombre', 'edad', 'mes', 'año']]]]\n",
      "[[[['Erick' '22' 'Diciembre' '1986']\n",
      "   ['Jefferson' '25' 'Enero' '1986']\n",
      "   ['Joselyn' '26' 'Noviembre' '1986']\n",
      "   ['Sara' '45' 'Octubre' '1989']]]]\n"
     ]
    }
   ],
   "source": [
    "# ordenados por el nombre\n",
    "print(cabecera)\n",
    "print(np.sort(datos,axis=2))"
   ]
  },
  {
   "cell_type": "code",
   "execution_count": null,
   "id": "f448bd95",
   "metadata": {},
   "outputs": [],
   "source": []
  }
 ],
 "metadata": {
  "kernelspec": {
   "display_name": "Python 3 (ipykernel)",
   "language": "python",
   "name": "python3"
  },
  "language_info": {
   "codemirror_mode": {
    "name": "ipython",
    "version": 3
   },
   "file_extension": ".py",
   "mimetype": "text/x-python",
   "name": "python",
   "nbconvert_exporter": "python",
   "pygments_lexer": "ipython3",
   "version": "3.10.4"
  }
 },
 "nbformat": 4,
 "nbformat_minor": 5
}
